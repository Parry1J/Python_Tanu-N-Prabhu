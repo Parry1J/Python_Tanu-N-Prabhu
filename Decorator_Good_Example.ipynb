{
  "nbformat": 4,
  "nbformat_minor": 0,
  "metadata": {
    "colab": {
      "provenance": [],
      "authorship_tag": "ABX9TyM7aJBVZVTO/+dFDsMbXhzW",
      "include_colab_link": true
    },
    "kernelspec": {
      "name": "python3",
      "display_name": "Python 3"
    },
    "language_info": {
      "name": "python"
    }
  },
  "cells": [
    {
      "cell_type": "markdown",
      "metadata": {
        "id": "view-in-github",
        "colab_type": "text"
      },
      "source": [
        "<a href=\"https://colab.research.google.com/github/Parry1J/Python_Tanu-N-Prabhu/blob/master/Decorator_Good_Example.ipynb\" target=\"_parent\"><img src=\"https://colab.research.google.com/assets/colab-badge.svg\" alt=\"Open In Colab\"/></a>"
      ]
    },
    {
      "cell_type": "code",
      "execution_count": 12,
      "metadata": {
        "colab": {
          "base_uri": "https://localhost:8080/"
        },
        "id": "Vb9wsPC0aB3m",
        "outputId": "238514e3-8a15-4b84-d78e-311a6aae66fd"
      },
      "outputs": [
        {
          "output_type": "stream",
          "name": "stdout",
          "text": [
            "aaaaaaaaaa\n",
            "<class 'function'>\n",
            "aaaaaaaaaa\n",
            "01->Executing lowercase_decorator and returning hello world\n",
            "02->Executing splitter_decorator and returning ['hello', 'world']\n"
          ]
        },
        {
          "output_type": "execute_result",
          "data": {
            "text/plain": [
              "['hello', 'world']"
            ]
          },
          "metadata": {},
          "execution_count": 12
        }
      ],
      "source": [
        "# decorator function to convert to lowercase\n",
        "def lowercase_decorator(function):\n",
        "   def wrapper():\n",
        "       func = function()\n",
        "       print(\"aaaaaaaaaa\")\n",
        "       #print(type(function))\n",
        "       print(\"aaaaaaaaaa\")\n",
        "       string_lowercase = func.lower()\n",
        "       print(f'01->Executing lowercase_decorator and returning {string_lowercase}')\n",
        "       return string_lowercase\n",
        "   return wrapper\n",
        "\n",
        "# decorator function to split words\n",
        "def splitter_decorator(function):\n",
        "   def wrapper():\n",
        "       func = function()\n",
        "       string_split = func.split()\n",
        "       print(f'02->Executing splitter_decorator and returning {string_split}')\n",
        "       return string_split\n",
        "   return wrapper\n",
        "\n",
        "@splitter_decorator # this is executed next\n",
        "@lowercase_decorator # this is executed first\n",
        "\n",
        "def hello():\n",
        "   return 'Hello World'\n",
        "\n",
        "hello()\n",
        "# output => [ 'hello' , 'world' ]\n",
        "# 01->Executing lowercase_decorator and returning hello world\n",
        "# 02->Executing splitter_decorator and returning ['hello', 'world']\n",
        "# ['hello', 'world']"
      ]
    },
    {
      "cell_type": "code",
      "source": [],
      "metadata": {
        "id": "p1ONNq8neVh5"
      },
      "execution_count": null,
      "outputs": []
    }
  ]
}